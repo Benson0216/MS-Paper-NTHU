{
 "cells": [
  {
   "cell_type": "code",
   "execution_count": 10,
   "id": "2fb30d5c",
   "metadata": {},
   "outputs": [],
   "source": [
    "import alphashape\n",
    "from descartes import PolygonPatch\n",
    "import folium\n",
    "import geopandas as gpd\n",
    "from geopy.geocoders import Nominatim\n",
    "from ipywidgets import interact, fixed, widgets\n",
    "import matplotlib.pyplot as plt\n",
    "import seaborn as sns\n",
    "import networkx as nx\n",
    "import numpy as np\n",
    "import osmnx as ox\n",
    "import pandas as pd\n",
    "from shapely import geometry\n",
    "from pyproj import CRS\n",
    "import shapely\n",
    "from shapely.ops import unary_union\n",
    "from shapely.geometry import Point, Polygon\n",
    "from itertools import chain, combinations\n",
    "import sys\n",
    "import os\n",
    "\n",
    "import warnings\n",
    "warnings.filterwarnings(\"ignore\")"
   ]
  },
  {
   "cell_type": "code",
   "execution_count": 20,
   "id": "15ae2c3c",
   "metadata": {},
   "outputs": [],
   "source": [
    "current = os.path.dirname(os.path.abspath(\"__file__\"))\n",
    "parent_dir = os.path.split(current)[0]"
   ]
  },
  {
   "cell_type": "code",
   "execution_count": 18,
   "id": "465609c0",
   "metadata": {},
   "outputs": [],
   "source": [
    "# Boundary data of Pingtung County\n",
    "ping = gpd.read_file(os.path.join(parent_dir, \"Taiwan_county\", \"COUNTY_MOI_1090820.shp\"), encoding='utf-8')\n",
    "ping = ping[ping['COUNTYNAME']=='屏東縣']\n",
    "\n",
    "# Boundary data of the villages of Pingtung County\n",
    "gdf_vill = gpd.read_file(os.path.join(parent_dir, \"PINGVILL\", \"VILLAGE_MOI_1101214.shp\"),encoding='utf-8')\n",
    "gdf_vill_ping = gdf_vill[gdf_vill['COUNTYNAME']=='屏東縣']\n",
    "vill_sanhe = gpd.read_file(os.path.join(parent_dir, \"PINGVILL\", \"Village_Sanhe.shp\"),encoding='utf-8')\n",
    "gdf_vill_ping = pd.concat([gdf_vill_ping, vill_sanhe])\n",
    "gdf_vill_ping = gdf_vill_ping.reset_index(drop=True)\n",
    "gdf_vill_ping = gdf_vill_ping[['TOWNNAME','VILLNAME','geometry']]\n",
    "gdf_vill_ping = gdf_vill_ping.drop(gdf_vill_ping[gdf_vill_ping['TOWNNAME']=='琉球鄉'].index)\n",
    "gdf_vill_ping=gdf_vill_ping.reset_index(drop=True)\n",
    "\n",
    "# Population data of Pingtung County\n",
    "ping_pop_no = pd.read_excel(os.path.join(parent_dir, \"test_patient_data\", \"屏東人口數.xls\"), index_col=0)\n",
    "\n",
    "# Matching population to village's name\n",
    "map_vill_name = [gdf_vill_ping['VILLNAME'][i] for i in range(len(gdf_vill_ping))]\n",
    "excel_vil_name = [ping_pop_no['鄉村名'][i] for i in range(len(ping_pop_no))]\n",
    "\n",
    "gdf_vill_ping['pop']=0\n",
    "for i in ping_pop_no['鄉村名']:\n",
    "    for j in range(len(gdf_vill_ping['VILLNAME'])):\n",
    "        if(gdf_vill_ping.at[j,'VILLNAME'] == i):\n",
    "            gdf_vill_ping.at[j,'pop'] = ping_pop_no.at[excel_vil_name.index(i),'人口數']\n",
    "            \n",
    "gdf_vill_ping['sam_p_1'] = gdf_vill_ping['pop'] / sum(gdf_vill_ping['pop'])\n",
    "vill_sampling_1 = [gdf_vill_ping.at[i,'sam_p_1'] for i in range(len(gdf_vill_ping))]\n",
    "\n",
    "gdf_vill_ping['sam_p_2'] = gdf_vill_ping['pop'] / gdf_vill_ping['geometry'].area\n",
    "vill_sampling_2 = [gdf_vill_ping.at[i,'sam_p_2']/sum(gdf_vill_ping['sam_p_2']) for i in range(len(gdf_vill_ping))]"
   ]
  },
  {
   "cell_type": "code",
   "execution_count": null,
   "id": "9f947156",
   "metadata": {},
   "outputs": [],
   "source": [
    "def pat_data_generator(number_of_data, data_type, iter_no):\n",
    "    # set random seed\n",
    "    np.random.seed(iter_no)\n",
    "    # patient data\n",
    "    pat_data = gpd.GeoSeries()\n",
    "    # uniform sampling from the boundary\n",
    "    if(data_type == 1):\n",
    "        x_min, y_min, x_max, y_max = ping.total_bounds\n",
    "        x_min=120.42\n",
    "        while(len(pat_data) < number_of_data):\n",
    "            re_pat_no = number_of_data - len(pat_data)\n",
    "            for i in range(re_pat_no):\n",
    "                x = np.random.uniform(x_min, x_max)\n",
    "                y = np.random.uniform(y_min, y_max)\n",
    "                pat_data=pat_data.append(gpd.GeoSeries(Point(x, y)))\n",
    "            pat_data = pat_data[pat_data.within(ping.at[21,'geometry'])]\n",
    "    \n",
    "    # sampling based on population\n",
    "    elif(data_type == 2):\n",
    "        while(len(pat_data) < number_of_data):\n",
    "            sam_vill_ind = np.random.choice([i for i in gdf_vill_ping.index], p = vill_sampling_1)\n",
    "            x_min, y_min, x_max, y_max = gdf_vill_ping['geometry'][sam_vill_ind].bounds\n",
    "            x = np.random.uniform(x_min, x_max)\n",
    "            y = np.random.uniform(y_min, y_max)\n",
    "            pat_data = pat_data.append(gpd.GeoSeries(Point(x, y)))\n",
    "            pat_data = pat_data[pat_data.within(ping.at[21,'geometry'])]\n",
    "    \n",
    "    # sampling based on population density\n",
    "    elif(data_type == 3):\n",
    "        while(len(pat_data) < number_of_data):\n",
    "            sam_vill_ind = np.random.choice([i for i in gdf_vill_ping.index], p = vill_sampling_2)\n",
    "            x_min, y_min, x_max, y_max = gdf_vill_ping['geometry'][sam_vill_ind].bounds\n",
    "            x = np.random.uniform(x_min, x_max)\n",
    "            y = np.random.uniform(y_min, y_max)\n",
    "            pat_data = pat_data.append(gpd.GeoSeries(Point(x, y)))\n",
    "            pat_data = pat_data[pat_data.within(ping.at[21,'geometry'])]\n",
    "    \n",
    "    pat_data = pat_data.reset_index(drop=True)\n",
    "    \n",
    "    pat_data_info = pd.DataFrame(pat_data)\n",
    "    pat_data_info.rename(columns = {0:'loc'}, inplace = True)\n",
    "    for i in range(len(pat_data_info)):\n",
    "        pat_data_info.at[i,'stroke_p'] = np.random.random()\n",
    "    \n",
    "    return pat_data_info"
   ]
  },
  {
   "cell_type": "code",
   "execution_count": 4,
   "id": "82e6494b",
   "metadata": {},
   "outputs": [],
   "source": [
    "data1=[]\n",
    "for random_seed in range(50):\n",
    "    pat_data_info_1 = pat_data_generator(1000,1,random_seed)\n",
    "    data1.append(pat_data_info_1)\n",
    "Excelwriter = pd.ExcelWriter(\"data_generate_1.xlsx\",engine=\"xlsxwriter\")\n",
    "\n",
    "for i, df in enumerate (data1):\n",
    "    df.to_excel(Excelwriter, sheet_name=\"Sheet\" + str(i+1),index=False)\n",
    "Excelwriter.save()"
   ]
  },
  {
   "cell_type": "code",
   "execution_count": 5,
   "id": "206912c7",
   "metadata": {},
   "outputs": [],
   "source": [
    "data2=[]\n",
    "for random_seed in range(50):\n",
    "    pat_data_info_2 = pat_data_generator(1000,2,random_seed)\n",
    "    data2.append(pat_data_info_2)\n",
    "Excelwriter = pd.ExcelWriter(\"data_generate_2.xlsx\",engine=\"xlsxwriter\")\n",
    "\n",
    "for i, df in enumerate (data2):\n",
    "    df.to_excel(Excelwriter, sheet_name=\"Sheet\" + str(i+1),index=False)\n",
    "Excelwriter.save()"
   ]
  },
  {
   "cell_type": "code",
   "execution_count": 6,
   "id": "9b163656",
   "metadata": {},
   "outputs": [],
   "source": [
    "data3=[]\n",
    "for random_seed in range(50):\n",
    "    pat_data_info_3 = pat_data_generator(1000,3,random_seed)\n",
    "    data3.append(pat_data_info_3)\n",
    "Excelwriter = pd.ExcelWriter(\"data_generate_3.xlsx\",engine=\"xlsxwriter\")\n",
    "\n",
    "for i, df in enumerate (data3):\n",
    "    df.to_excel(Excelwriter, sheet_name=\"Sheet\" + str(i+1),index=False)\n",
    "Excelwriter.save()"
   ]
  }
 ],
 "metadata": {
  "kernelspec": {
   "display_name": "base",
   "language": "python",
   "name": "python3"
  },
  "language_info": {
   "codemirror_mode": {
    "name": "ipython",
    "version": 3
   },
   "file_extension": ".py",
   "mimetype": "text/x-python",
   "name": "python",
   "nbconvert_exporter": "python",
   "pygments_lexer": "ipython3",
   "version": "3.8.8"
  },
  "vscode": {
   "interpreter": {
    "hash": "a077222d77dfe082b8f1dd562ad70e458ac2ab76993a0b248ab0476e32e9e8dd"
   }
  }
 },
 "nbformat": 4,
 "nbformat_minor": 5
}
