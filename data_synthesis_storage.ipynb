{
 "cells": [
  {
   "cell_type": "code",
   "execution_count": 1,
   "id": "2fb30d5c",
   "metadata": {},
   "outputs": [],
   "source": [
    "from sklearn.cluster import KMeans\n",
    "from sklearn_extra.cluster import KMedoids\n",
    "import alphashape\n",
    "from descartes import PolygonPatch\n",
    "import folium\n",
    "import geopandas as gpd\n",
    "from geopy.geocoders import Nominatim\n",
    "from ipywidgets import interact, fixed, widgets\n",
    "import matplotlib.pyplot as plt\n",
    "import seaborn as sns\n",
    "import networkx as nx\n",
    "import numpy as np\n",
    "import osmnx as ox\n",
    "import pandas as pd\n",
    "from shapely import geometry\n",
    "from pyproj import CRS\n",
    "import shapely\n",
    "from shapely.ops import unary_union\n",
    "from shapely.geometry import Point, Polygon\n",
    "from itertools import chain, combinations\n",
    "\n",
    "import warnings\n",
    "warnings.filterwarnings(\"ignore\")"
   ]
  },
  {
   "cell_type": "code",
   "execution_count": 5,
   "id": "636c50a6",
   "metadata": {},
   "outputs": [
    {
     "ename": "FileNotFoundError",
     "evalue": "[Errno 2] No such file or directory: '屏東人口數.xls'",
     "output_type": "error",
     "traceback": [
      "\u001b[1;31m---------------------------------------------------------------------------\u001b[0m",
      "\u001b[1;31mFileNotFoundError\u001b[0m                         Traceback (most recent call last)",
      "\u001b[1;32m<ipython-input-5-c7704258d0d7>\u001b[0m in \u001b[0;36m<module>\u001b[1;34m\u001b[0m\n\u001b[0;32m     16\u001b[0m \u001b[1;33m\u001b[0m\u001b[0m\n\u001b[0;32m     17\u001b[0m \u001b[1;31m# number of people in pingtung\u001b[0m\u001b[1;33m\u001b[0m\u001b[1;33m\u001b[0m\u001b[1;33m\u001b[0m\u001b[0m\n\u001b[1;32m---> 18\u001b[1;33m \u001b[0mping_pop_no\u001b[0m \u001b[1;33m=\u001b[0m \u001b[0mpd\u001b[0m\u001b[1;33m.\u001b[0m\u001b[0mread_excel\u001b[0m\u001b[1;33m(\u001b[0m\u001b[1;34m'屏東人口數.xls'\u001b[0m\u001b[1;33m,\u001b[0m \u001b[0mindex_col\u001b[0m\u001b[1;33m=\u001b[0m\u001b[1;36m0\u001b[0m\u001b[1;33m)\u001b[0m\u001b[1;33m\u001b[0m\u001b[1;33m\u001b[0m\u001b[0m\n\u001b[0m\u001b[0;32m     19\u001b[0m \u001b[1;33m\u001b[0m\u001b[0m\n\u001b[0;32m     20\u001b[0m \u001b[1;31m# for matching population to village name\u001b[0m\u001b[1;33m\u001b[0m\u001b[1;33m\u001b[0m\u001b[1;33m\u001b[0m\u001b[0m\n",
      "\u001b[1;32m~\\AppData\\Roaming\\Python\\Python38\\site-packages\\pandas\\util\\_decorators.py\u001b[0m in \u001b[0;36mwrapper\u001b[1;34m(*args, **kwargs)\u001b[0m\n\u001b[0;32m    309\u001b[0m                     \u001b[0mstacklevel\u001b[0m\u001b[1;33m=\u001b[0m\u001b[0mstacklevel\u001b[0m\u001b[1;33m,\u001b[0m\u001b[1;33m\u001b[0m\u001b[1;33m\u001b[0m\u001b[0m\n\u001b[0;32m    310\u001b[0m                 )\n\u001b[1;32m--> 311\u001b[1;33m             \u001b[1;32mreturn\u001b[0m \u001b[0mfunc\u001b[0m\u001b[1;33m(\u001b[0m\u001b[1;33m*\u001b[0m\u001b[0margs\u001b[0m\u001b[1;33m,\u001b[0m \u001b[1;33m**\u001b[0m\u001b[0mkwargs\u001b[0m\u001b[1;33m)\u001b[0m\u001b[1;33m\u001b[0m\u001b[1;33m\u001b[0m\u001b[0m\n\u001b[0m\u001b[0;32m    312\u001b[0m \u001b[1;33m\u001b[0m\u001b[0m\n\u001b[0;32m    313\u001b[0m         \u001b[1;32mreturn\u001b[0m \u001b[0mwrapper\u001b[0m\u001b[1;33m\u001b[0m\u001b[1;33m\u001b[0m\u001b[0m\n",
      "\u001b[1;32m~\\AppData\\Roaming\\Python\\Python38\\site-packages\\pandas\\io\\excel\\_base.py\u001b[0m in \u001b[0;36mread_excel\u001b[1;34m(io, sheet_name, header, names, index_col, usecols, squeeze, dtype, engine, converters, true_values, false_values, skiprows, nrows, na_values, keep_default_na, na_filter, verbose, parse_dates, date_parser, thousands, comment, skipfooter, convert_float, mangle_dupe_cols, storage_options)\u001b[0m\n\u001b[0;32m    362\u001b[0m     \u001b[1;32mif\u001b[0m \u001b[1;32mnot\u001b[0m \u001b[0misinstance\u001b[0m\u001b[1;33m(\u001b[0m\u001b[0mio\u001b[0m\u001b[1;33m,\u001b[0m \u001b[0mExcelFile\u001b[0m\u001b[1;33m)\u001b[0m\u001b[1;33m:\u001b[0m\u001b[1;33m\u001b[0m\u001b[1;33m\u001b[0m\u001b[0m\n\u001b[0;32m    363\u001b[0m         \u001b[0mshould_close\u001b[0m \u001b[1;33m=\u001b[0m \u001b[1;32mTrue\u001b[0m\u001b[1;33m\u001b[0m\u001b[1;33m\u001b[0m\u001b[0m\n\u001b[1;32m--> 364\u001b[1;33m         \u001b[0mio\u001b[0m \u001b[1;33m=\u001b[0m \u001b[0mExcelFile\u001b[0m\u001b[1;33m(\u001b[0m\u001b[0mio\u001b[0m\u001b[1;33m,\u001b[0m \u001b[0mstorage_options\u001b[0m\u001b[1;33m=\u001b[0m\u001b[0mstorage_options\u001b[0m\u001b[1;33m,\u001b[0m \u001b[0mengine\u001b[0m\u001b[1;33m=\u001b[0m\u001b[0mengine\u001b[0m\u001b[1;33m)\u001b[0m\u001b[1;33m\u001b[0m\u001b[1;33m\u001b[0m\u001b[0m\n\u001b[0m\u001b[0;32m    365\u001b[0m     \u001b[1;32melif\u001b[0m \u001b[0mengine\u001b[0m \u001b[1;32mand\u001b[0m \u001b[0mengine\u001b[0m \u001b[1;33m!=\u001b[0m \u001b[0mio\u001b[0m\u001b[1;33m.\u001b[0m\u001b[0mengine\u001b[0m\u001b[1;33m:\u001b[0m\u001b[1;33m\u001b[0m\u001b[1;33m\u001b[0m\u001b[0m\n\u001b[0;32m    366\u001b[0m         raise ValueError(\n",
      "\u001b[1;32m~\\AppData\\Roaming\\Python\\Python38\\site-packages\\pandas\\io\\excel\\_base.py\u001b[0m in \u001b[0;36m__init__\u001b[1;34m(self, path_or_buffer, engine, storage_options)\u001b[0m\n\u001b[0;32m   1189\u001b[0m                 \u001b[0mext\u001b[0m \u001b[1;33m=\u001b[0m \u001b[1;34m\"xls\"\u001b[0m\u001b[1;33m\u001b[0m\u001b[1;33m\u001b[0m\u001b[0m\n\u001b[0;32m   1190\u001b[0m             \u001b[1;32melse\u001b[0m\u001b[1;33m:\u001b[0m\u001b[1;33m\u001b[0m\u001b[1;33m\u001b[0m\u001b[0m\n\u001b[1;32m-> 1191\u001b[1;33m                 ext = inspect_excel_format(\n\u001b[0m\u001b[0;32m   1192\u001b[0m                     \u001b[0mcontent_or_path\u001b[0m\u001b[1;33m=\u001b[0m\u001b[0mpath_or_buffer\u001b[0m\u001b[1;33m,\u001b[0m \u001b[0mstorage_options\u001b[0m\u001b[1;33m=\u001b[0m\u001b[0mstorage_options\u001b[0m\u001b[1;33m\u001b[0m\u001b[1;33m\u001b[0m\u001b[0m\n\u001b[0;32m   1193\u001b[0m                 )\n",
      "\u001b[1;32m~\\AppData\\Roaming\\Python\\Python38\\site-packages\\pandas\\io\\excel\\_base.py\u001b[0m in \u001b[0;36minspect_excel_format\u001b[1;34m(content_or_path, storage_options)\u001b[0m\n\u001b[0;32m   1068\u001b[0m         \u001b[0mcontent_or_path\u001b[0m \u001b[1;33m=\u001b[0m \u001b[0mBytesIO\u001b[0m\u001b[1;33m(\u001b[0m\u001b[0mcontent_or_path\u001b[0m\u001b[1;33m)\u001b[0m\u001b[1;33m\u001b[0m\u001b[1;33m\u001b[0m\u001b[0m\n\u001b[0;32m   1069\u001b[0m \u001b[1;33m\u001b[0m\u001b[0m\n\u001b[1;32m-> 1070\u001b[1;33m     with get_handle(\n\u001b[0m\u001b[0;32m   1071\u001b[0m         \u001b[0mcontent_or_path\u001b[0m\u001b[1;33m,\u001b[0m \u001b[1;34m\"rb\"\u001b[0m\u001b[1;33m,\u001b[0m \u001b[0mstorage_options\u001b[0m\u001b[1;33m=\u001b[0m\u001b[0mstorage_options\u001b[0m\u001b[1;33m,\u001b[0m \u001b[0mis_text\u001b[0m\u001b[1;33m=\u001b[0m\u001b[1;32mFalse\u001b[0m\u001b[1;33m\u001b[0m\u001b[1;33m\u001b[0m\u001b[0m\n\u001b[0;32m   1072\u001b[0m     ) as handle:\n",
      "\u001b[1;32m~\\AppData\\Roaming\\Python\\Python38\\site-packages\\pandas\\io\\common.py\u001b[0m in \u001b[0;36mget_handle\u001b[1;34m(path_or_buf, mode, encoding, compression, memory_map, is_text, errors, storage_options)\u001b[0m\n\u001b[0;32m    709\u001b[0m         \u001b[1;32melse\u001b[0m\u001b[1;33m:\u001b[0m\u001b[1;33m\u001b[0m\u001b[1;33m\u001b[0m\u001b[0m\n\u001b[0;32m    710\u001b[0m             \u001b[1;31m# Binary mode\u001b[0m\u001b[1;33m\u001b[0m\u001b[1;33m\u001b[0m\u001b[1;33m\u001b[0m\u001b[0m\n\u001b[1;32m--> 711\u001b[1;33m             \u001b[0mhandle\u001b[0m \u001b[1;33m=\u001b[0m \u001b[0mopen\u001b[0m\u001b[1;33m(\u001b[0m\u001b[0mhandle\u001b[0m\u001b[1;33m,\u001b[0m \u001b[0mioargs\u001b[0m\u001b[1;33m.\u001b[0m\u001b[0mmode\u001b[0m\u001b[1;33m)\u001b[0m\u001b[1;33m\u001b[0m\u001b[1;33m\u001b[0m\u001b[0m\n\u001b[0m\u001b[0;32m    712\u001b[0m         \u001b[0mhandles\u001b[0m\u001b[1;33m.\u001b[0m\u001b[0mappend\u001b[0m\u001b[1;33m(\u001b[0m\u001b[0mhandle\u001b[0m\u001b[1;33m)\u001b[0m\u001b[1;33m\u001b[0m\u001b[1;33m\u001b[0m\u001b[0m\n\u001b[0;32m    713\u001b[0m \u001b[1;33m\u001b[0m\u001b[0m\n",
      "\u001b[1;31mFileNotFoundError\u001b[0m: [Errno 2] No such file or directory: '屏東人口數.xls'"
     ]
    }
   ],
   "source": [
    "# boundary of ping tund county\n",
    "ping = gpd.read_file(r'C:\\Users\\李柏毅 Benson\\OneDrive\\桌面\\NTHU_LAB\\New project\\Taiwan_county\\COUNTY_MOI_1090820.shp',encoding='utf-8')\n",
    "ping = ping[ping['COUNTYNAME']=='屏東縣']\n",
    "\n",
    "# boundary of the village of pingtung\n",
    "gdf_vill=gpd.read_file(r'C:\\Users\\李柏毅 Benson\\OneDrive\\桌面\\NTHU_LAB\\New project\\PINGVILL\\VILLAGE_MOI_1101214.shp',encoding='utf-8')\n",
    "gdf_vill_ping=gdf_vill[gdf_vill['COUNTYNAME']=='屏東縣']\n",
    "test=gpd.read_file(r'C:\\Users\\李柏毅 Benson\\OneDrive\\桌面\\NTHU_LAB\\New project\\PINGVILL\\Village_Sanhe.shp',encoding='utf-8')\n",
    "gdf_vill_ping=pd.concat([gdf_vill_ping,test])\n",
    "gdf_vill_ping=gdf_vill_ping.reset_index()\n",
    "gdf_vill_ping=gdf_vill_ping.drop(columns=['index'])\n",
    "gdf_vill_ping = gdf_vill_ping[['TOWNNAME','VILLNAME','geometry']]\n",
    "gdf_vill_ping = gdf_vill_ping.drop(gdf_vill_ping[gdf_vill_ping['TOWNNAME']=='琉球鄉'].index)\n",
    "gdf_vill_ping=gdf_vill_ping.reset_index()\n",
    "gdf_vill_ping=gdf_vill_ping.drop(columns=['index'])\n",
    "\n",
    "# number of people in pingtung\n",
    "ping_pop_no = pd.read_excel('屏東人口數.xls', index_col=0)\n",
    "\n",
    "# for matching population to village name\n",
    "map_vill_name = [gdf_vill_ping['VILLNAME'][i] for i in range(len(gdf_vill_ping))]\n",
    "excel_vil_name = [ping_pop_no['鄉村名'][i] for i in range(len(ping_pop_no))]\n",
    "\n",
    "gdf_vill_ping['pop']=0\n",
    "for i in ping_pop_no['鄉村名']:\n",
    "    for j in range(len(gdf_vill_ping['VILLNAME'])):\n",
    "        if(gdf_vill_ping.at[j,'VILLNAME'] == i):\n",
    "            gdf_vill_ping.at[j,'pop'] = ping_pop_no.at[excel_vil_name.index(i),'人口數']\n",
    "            \n",
    "gdf_vill_ping['sam_p_1'] = gdf_vill_ping['pop'] / sum(gdf_vill_ping['pop'])\n",
    "vill_sampling_1 = [gdf_vill_ping.at[i,'sam_p_1'] for i in range(len(gdf_vill_ping))]\n",
    "\n",
    "gdf_vill_ping['sam_p_2'] = gdf_vill_ping['pop'] / gdf_vill_ping['geometry'].area\n",
    "vill_sampling_2 = [gdf_vill_ping.at[i,'sam_p_2']/sum(gdf_vill_ping['sam_p_2']) for i in range(len(gdf_vill_ping))]"
   ]
  },
  {
   "cell_type": "code",
   "execution_count": null,
   "id": "9f947156",
   "metadata": {},
   "outputs": [],
   "source": [
    "def pat_data_generator(number_of_data, data_type, iter_no):\n",
    "    # set random seed\n",
    "    np.random.seed(iter_no)\n",
    "    # patient data\n",
    "    pat_data = gpd.GeoSeries()\n",
    "    # uniform sampling from the boundary\n",
    "    if(data_type == 1):\n",
    "        x_min, y_min, x_max, y_max = ping.total_bounds\n",
    "        x_min=120.42\n",
    "        while(len(pat_data) < number_of_data):\n",
    "            re_pat_no = number_of_data - len(pat_data)\n",
    "            for i in range(re_pat_no):\n",
    "                x = np.random.uniform(x_min, x_max)\n",
    "                y = np.random.uniform(y_min, y_max)\n",
    "                pat_data=pat_data.append(gpd.GeoSeries(Point(x, y)))\n",
    "            pat_data = pat_data[pat_data.within(ping.at[21,'geometry'])]\n",
    "    \n",
    "    # sampling based on population\n",
    "    elif(data_type == 2):\n",
    "        while(len(pat_data) < number_of_data):\n",
    "            sam_vill_ind = np.random.choice([i for i in gdf_vill_ping.index], p = vill_sampling_1)\n",
    "            x_min, y_min, x_max, y_max = gdf_vill_ping['geometry'][sam_vill_ind].bounds\n",
    "            x = np.random.uniform(x_min, x_max)\n",
    "            y = np.random.uniform(y_min, y_max)\n",
    "            pat_data = pat_data.append(gpd.GeoSeries(Point(x, y)))\n",
    "            pat_data = pat_data[pat_data.within(ping.at[21,'geometry'])]\n",
    "    \n",
    "    # sampling based on population density\n",
    "    elif(data_type == 3):\n",
    "        while(len(pat_data) < number_of_data):\n",
    "            sam_vill_ind = np.random.choice([i for i in gdf_vill_ping.index], p = vill_sampling_2)\n",
    "            x_min, y_min, x_max, y_max = gdf_vill_ping['geometry'][sam_vill_ind].bounds\n",
    "            x = np.random.uniform(x_min, x_max)\n",
    "            y = np.random.uniform(y_min, y_max)\n",
    "            pat_data = pat_data.append(gpd.GeoSeries(Point(x, y)))\n",
    "            pat_data = pat_data[pat_data.within(ping.at[21,'geometry'])]\n",
    "    \n",
    "    pat_data = pat_data.reset_index(drop=True)\n",
    "    \n",
    "    pat_data_info = pd.DataFrame(pat_data)\n",
    "    pat_data_info.rename(columns = {0:'loc'}, inplace = True)\n",
    "    for i in range(len(pat_data_info)):\n",
    "        pat_data_info.at[i,'stroke_p'] = np.random.random()\n",
    "    \n",
    "    return pat_data_info"
   ]
  },
  {
   "cell_type": "code",
   "execution_count": 4,
   "id": "82e6494b",
   "metadata": {},
   "outputs": [],
   "source": [
    "data1=[]\n",
    "for random_seed in range(50):\n",
    "    pat_data_info_1 = pat_data_generator(1000,1,random_seed)\n",
    "    data1.append(pat_data_info_1)\n",
    "Excelwriter = pd.ExcelWriter(\"data_generate_1.xlsx\",engine=\"xlsxwriter\")\n",
    "\n",
    "for i, df in enumerate (data1):\n",
    "    df.to_excel(Excelwriter, sheet_name=\"Sheet\" + str(i+1),index=False)\n",
    "Excelwriter.save()"
   ]
  },
  {
   "cell_type": "code",
   "execution_count": 5,
   "id": "206912c7",
   "metadata": {},
   "outputs": [],
   "source": [
    "data2=[]\n",
    "for random_seed in range(50):\n",
    "    pat_data_info_2 = pat_data_generator(1000,2,random_seed)\n",
    "    data2.append(pat_data_info_2)\n",
    "Excelwriter = pd.ExcelWriter(\"data_generate_2.xlsx\",engine=\"xlsxwriter\")\n",
    "\n",
    "for i, df in enumerate (data2):\n",
    "    df.to_excel(Excelwriter, sheet_name=\"Sheet\" + str(i+1),index=False)\n",
    "Excelwriter.save()"
   ]
  },
  {
   "cell_type": "code",
   "execution_count": 6,
   "id": "9b163656",
   "metadata": {},
   "outputs": [],
   "source": [
    "data3=[]\n",
    "for random_seed in range(50):\n",
    "    pat_data_info_3 = pat_data_generator(1000,3,random_seed)\n",
    "    data3.append(pat_data_info_3)\n",
    "Excelwriter = pd.ExcelWriter(\"data_generate_3.xlsx\",engine=\"xlsxwriter\")\n",
    "\n",
    "for i, df in enumerate (data3):\n",
    "    df.to_excel(Excelwriter, sheet_name=\"Sheet\" + str(i+1),index=False)\n",
    "Excelwriter.save()"
   ]
  }
 ],
 "metadata": {
  "kernelspec": {
   "display_name": "base",
   "language": "python",
   "name": "python3"
  },
  "language_info": {
   "codemirror_mode": {
    "name": "ipython",
    "version": 3
   },
   "file_extension": ".py",
   "mimetype": "text/x-python",
   "name": "python",
   "nbconvert_exporter": "python",
   "pygments_lexer": "ipython3",
   "version": "3.8.8"
  },
  "vscode": {
   "interpreter": {
    "hash": "a077222d77dfe082b8f1dd562ad70e458ac2ab76993a0b248ab0476e32e9e8dd"
   }
  }
 },
 "nbformat": 4,
 "nbformat_minor": 5
}
